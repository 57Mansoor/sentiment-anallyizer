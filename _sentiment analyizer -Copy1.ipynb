{
 "cells": [
  {
   "cell_type": "code",
   "execution_count": 1,
   "id": "03fbb554",
   "metadata": {},
   "outputs": [
    {
     "name": "stdout",
     "output_type": "stream",
     "text": [
      "Requirement already satisfied: textblob in c:\\users\\manso\\anaconda3\\lib\\site-packages (0.18.0.post0)\n",
      "Requirement already satisfied: nltk>=3.8 in c:\\users\\manso\\anaconda3\\lib\\site-packages (from textblob) (3.9.1)\n",
      "Requirement already satisfied: regex>=2021.8.3 in c:\\users\\manso\\anaconda3\\lib\\site-packages (from nltk>=3.8->textblob) (2022.3.15)\n",
      "Requirement already satisfied: click in c:\\users\\manso\\anaconda3\\lib\\site-packages (from nltk>=3.8->textblob) (8.0.4)\n",
      "Requirement already satisfied: joblib in c:\\users\\manso\\anaconda3\\lib\\site-packages (from nltk>=3.8->textblob) (1.1.0)\n",
      "Requirement already satisfied: tqdm in c:\\users\\manso\\anaconda3\\lib\\site-packages (from nltk>=3.8->textblob) (4.64.0)\n",
      "Requirement already satisfied: colorama in c:\\users\\manso\\anaconda3\\lib\\site-packages (from click->nltk>=3.8->textblob) (0.4.4)\n",
      "Note: you may need to restart the kernel to use updated packages.\n"
     ]
    }
   ],
   "source": [
    "pip install textblob"
   ]
  },
  {
   "cell_type": "code",
   "execution_count": null,
   "id": "59186398",
   "metadata": {},
   "outputs": [
    {
     "name": "stdout",
     "output_type": "stream",
     "text": [
      "Sentiment Detection Analyzer\n",
      "Type 'exit' to quit.\n",
      "\n",
      "Enter text to analyze sentiment: positive\n",
      "\n",
      "Sentiment: Positive\n",
      "Polarity: 0.22727272727272727\n",
      "Subjectivity: 0.5454545454545454\n",
      "\n",
      "Enter text to analyze sentiment: positive\n",
      "\n",
      "Sentiment: Positive\n",
      "Polarity: 0.22727272727272727\n",
      "Subjectivity: 0.5454545454545454\n",
      "\n",
      "Enter text to analyze sentiment: positive\n",
      "\n",
      "Sentiment: Positive\n",
      "Polarity: 0.22727272727272727\n",
      "Subjectivity: 0.5454545454545454\n",
      "\n",
      "Enter text to analyze sentiment: negative\n",
      "\n",
      "Sentiment: Negative\n",
      "Polarity: -0.3\n",
      "Subjectivity: 0.4\n"
     ]
    }
   ],
   "source": [
    "from textblob import TextBlob\n",
    "\n",
    "def analyze_sentiment(text):\n",
    "    # Create a TextBlob object\n",
    "    blob = TextBlob(text)\n",
    "    \n",
    "    # Get polarity and subjectivity scores\n",
    "    polarity = blob.sentiment.polarity\n",
    "    subjectivity = blob.sentiment.subjectivity\n",
    "    \n",
    "    # Classify sentiment based on polarity\n",
    "    if polarity > 0:\n",
    "        sentiment = \"Positive\"\n",
    "    elif polarity < 0:\n",
    "        sentiment = \"Negative\"\n",
    "    else:\n",
    "        sentiment = \"Neutral\"\n",
    "    \n",
    "    # Return the results\n",
    "    return sentiment, polarity, subjectivity\n",
    "\n",
    "def main():\n",
    "    print(\"Sentiment Detection Analyzer\")\n",
    "    print(\"Type 'exit' to quit.\")\n",
    "    \n",
    "    while True:\n",
    "        # Get user input\n",
    "        user_input = input(\"\\nEnter text to analyze sentiment: \")\n",
    "        \n",
    "        # Exit condition\n",
    "        if user_input.lower() == 'exit':\n",
    "            print(\"Exiting Sentiment Analyzer.\")\n",
    "            break\n",
    "        \n",
    "        # Analyze sentiment\n",
    "        sentiment, polarity, subjectivity = analyze_sentiment(user_input)\n",
    "        \n",
    "        # Display results\n",
    "        print(f\"\\nSentiment: {sentiment}\")\n",
    "        print(f\"Polarity: {polarity}\")\n",
    "        print(f\"Subjectivity: {subjectivity}\")\n",
    "        \n",
    "if __name__ == \"__main__\":\n",
    "    main()\n"
   ]
  },
  {
   "cell_type": "code",
   "execution_count": null,
   "id": "1ccf92ea",
   "metadata": {},
   "outputs": [],
   "source": []
  }
 ],
 "metadata": {
  "kernelspec": {
   "display_name": "Python 3 (ipykernel)",
   "language": "python",
   "name": "python3"
  },
  "language_info": {
   "codemirror_mode": {
    "name": "ipython",
    "version": 3
   },
   "file_extension": ".py",
   "mimetype": "text/x-python",
   "name": "python",
   "nbconvert_exporter": "python",
   "pygments_lexer": "ipython3",
   "version": "3.9.12"
  }
 },
 "nbformat": 4,
 "nbformat_minor": 5
}
